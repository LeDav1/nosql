{
  "cells": [
    {
      "cell_type": "markdown",
      "metadata": {
        "id": "dtSW5CP8wJ77"
      },
      "source": [
        "Delete everything"
      ]
    },
    {
      "cell_type": "code",
      "execution_count": 1,
      "metadata": {
        "id": "D_yHB2eUIX-1"
      },
      "outputs": [
        {
          "name": "stderr",
          "output_type": "stream",
          "text": [
            "rm: cannot lstat `sample_data/': No such file or directory\n"
          ]
        }
      ],
      "source": [
        "!rm -r sample_data/"
      ]
    },
    {
      "cell_type": "markdown",
      "metadata": {
        "id": "gvHjpJfTwb9F"
      },
      "source": [
        "Install Hadoop"
      ]
    },
    {
      "cell_type": "code",
      "execution_count": null,
      "metadata": {
        "id": "UQBHufR3IDwb"
      },
      "outputs": [],
      "source": [
        "!wget https://archive.apache.org/dist/hadoop/common/hadoop-2.9.1/hadoop-2.9.1.tar.gz\n",
        "!tar -xzf hadoop-2.9.1.tar.gz\n",
        "!rm hadoop-2.9.1.tar.gz"
      ]
    },
    {
      "cell_type": "markdown",
      "metadata": {
        "id": "FTOsSZzMw97w"
      },
      "source": [
        "Get the twitter Friend/Followers dataset archive"
      ]
    },
    {
      "cell_type": "code",
      "execution_count": null,
      "metadata": {
        "id": "esX43Da_TjGH"
      },
      "outputs": [],
      "source": [
        "!wget https://snap.stanford.edu/data/higgs-social_network.edgelist.gz higgs-social_network.edgelist.gz\n",
        "!gunzip -d higgs-social_network.edgelist.gz"
      ]
    },
    {
      "cell_type": "markdown",
      "metadata": {
        "id": "AUTeCB7IxL3s"
      },
      "source": [
        "Set the JAVA_HOME environment variable (useful for Hadoop to run)"
      ]
    },
    {
      "cell_type": "code",
      "execution_count": null,
      "metadata": {
        "id": "W-OOd3nuJYA4"
      },
      "outputs": [],
      "source": [
        "import os\n",
        "os.environ[\"JAVA_HOME\"] = \"/usr/lib/jvm/java-11-openjdk-amd64\""
      ]
    },
    {
      "cell_type": "markdown",
      "metadata": {
        "id": "x9beMM0SxTw3"
      },
      "source": [
        "You have to load the expected-ouputs archive (containing the expected-outputs folder) before doing this step.\n",
        "Here we are extracting the folder"
      ]
    },
    {
      "cell_type": "code",
      "execution_count": null,
      "metadata": {
        "id": "KXbB6mjnruSi"
      },
      "outputs": [],
      "source": [
        "!unzip expected-outputs.zip"
      ]
    },
    {
      "cell_type": "markdown",
      "metadata": {
        "id": "lK4IGEXUx22Y"
      },
      "source": [
        "Before doing that, import your mapper and your reducer. Change the names in the command below.\n",
        "We are making the mapper and the reducer executable"
      ]
    },
    {
      "cell_type": "code",
      "execution_count": 1,
      "metadata": {
        "id": "S9MtL6VcPoNU"
      },
      "outputs": [
        {
          "name": "stderr",
          "output_type": "stream",
          "text": [
            "chmod: cannot access `/content/twitter1-mapper.py': No such file or directory\n",
            "chmod: cannot access `/content/twitter1-reduce.py': No such file or directory\n"
          ]
        }
      ],
      "source": [
        "!chmod +x twitter1-mapper.py\n",
        "!chmod +x twitter1-reduce.py"
      ]
    },
    {
      "cell_type": "markdown",
      "metadata": {
        "id": "G81sfkQgyHj_"
      },
      "source": [
        "We run the Hadoop !!\n",
        "The output will be stored in the \"my_output\" folder"
      ]
    },
    {
      "cell_type": "code",
      "execution_count": null,
      "metadata": {
        "id": "-cPaJUYELFib"
      },
      "outputs": [],
      "source": [
        "!rm -r my_output_twitter1/\n",
        "!hadoop-2.9.1/bin/hadoop jar hadoop-2.9.1/share/hadoop/tools/lib/hadoop-streaming-2.9.1.jar \\\n",
        "-input higgs-social_network.edgelist \\\n",
        "-output my_output_twitter1 \\\n",
        "-mapper twitter1-mapper.py \\\n",
        "-reducer twitter1-reduce.py"
      ]
    },
    {
      "cell_type": "markdown",
      "metadata": {
        "id": "dG6dty9gyTUF"
      },
      "source": [
        "We test if we get the right output.\n",
        "If there's no output, you did it! Great job"
      ]
    },
    {
      "cell_type": "code",
      "execution_count": null,
      "metadata": {
        "id": "m3tkILN6rdnN"
      },
      "outputs": [],
      "source": [
        "!diff my_output_twitter1/part-00000 expected-outputs/aggreg-count.txt"
      ]
    },
    {
      "cell_type": "markdown",
      "metadata": {
        "id": "G0DhO7pQNOv5"
      },
      "source": [
        "# Question b:"
      ]
    },
    {
      "cell_type": "markdown",
      "metadata": {
        "id": "jckq_dGVNTqK"
      },
      "source": [
        "Import your mapper and your reducer first"
      ]
    },
    {
      "cell_type": "code",
      "execution_count": null,
      "metadata": {
        "id": "_UB4bvyjO3J5"
      },
      "outputs": [],
      "source": [
        "!chmod +x twitter2-mapper.py\n",
        "!chmod +x twitter2-reduce.py"
      ]
    },
    {
      "cell_type": "markdown",
      "metadata": {
        "id": "FR5yXyUgO-8x"
      },
      "source": [
        "We run Hadoop"
      ]
    },
    {
      "cell_type": "code",
      "execution_count": null,
      "metadata": {
        "id": "AbIeIwluNM6a"
      },
      "outputs": [],
      "source": [
        "!rm -r my_output_twitter2/\n",
        "!hadoop-2.9.1/bin/hadoop jar hadoop-2.9.1/share/hadoop/tools/lib/hadoop-streaming-2.9.1.jar \\\n",
        "-input expected-outputs/aggreg-count.txt \\\n",
        "-output my_output_twitter2 \\\n",
        "-mapper twitter2-mapper.py \\\n",
        "-reducer twitter2-reduce.py"
      ]
    },
    {
      "cell_type": "markdown",
      "metadata": {
        "id": "AlscZQ7XN56W"
      },
      "source": [
        "We test if we get the right output. If there's no output, you did it! Great job"
      ]
    },
    {
      "cell_type": "code",
      "execution_count": null,
      "metadata": {
        "id": "Lia6q0aaOD5-"
      },
      "outputs": [],
      "source": [
        "!diff my_output_twitter2/part-00000 expected-outputs/aggreg-other.txt"
      ]
    }
  ],
  "metadata": {
    "accelerator": "GPU",
    "colab": {
      "private_outputs": true,
      "provenance": []
    },
    "gpuClass": "standard",
    "kernelspec": {
      "display_name": "Python 3",
      "name": "python3"
    },
    "language_info": {
      "codemirror_mode": {
        "name": "ipython",
        "version": 3
      },
      "file_extension": ".py",
      "mimetype": "text/x-python",
      "name": "python",
      "nbconvert_exporter": "python",
      "pygments_lexer": "ipython3",
      "version": "3.10.10"
    }
  },
  "nbformat": 4,
  "nbformat_minor": 0
}
